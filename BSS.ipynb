{
 "cells": [
  {
   "cell_type": "code",
   "execution_count": 1,
   "metadata": {},
   "outputs": [],
   "source": [
    "from time import time\n",
    "\n",
    "start = time()\n",
    "\n",
    "### Read files\n",
    "\n",
    "import pandas as pd\n",
    "import glob\n",
    "listat = []\n",
    "path = r'C:\\Users\\perol\\Documents\\acc\\files'\n",
    "all_files = glob.glob(path + \"/*.csv\")\n",
    "for file in all_files:\n",
    "    df = pd.read_csv(file)\n",
    "    listat.append(df)\n",
    "    \n",
    "### Aggregation of departure stations by month\n",
    "    \n",
    "arvot_d = []\n",
    "for i in listat:\n",
    "    apu = i['Departure station id'].value_counts()\n",
    "    apu2 = pd.DataFrame(apu)\n",
    "    apu2.reset_index(inplace=True)\n",
    "    apu2.columns = ['Departure station id', 'count']\n",
    "    arvot_d.append(apu2)\n",
    "\n",
    "for i in range(len(arvot_d)):\n",
    "    arvot_d[i].to_csv('departure_' + str(i) + '.csv')"
   ]
  },
  {
   "cell_type": "code",
   "execution_count": 2,
   "metadata": {},
   "outputs": [],
   "source": [
    "### Aggregation of return stations by month\n",
    "\n",
    "arvot_r = []\n",
    "for i in listat:\n",
    "    apu3 = i['Return station id'].value_counts()\n",
    "    apu4 = pd.DataFrame(apu3)\n",
    "    apu4.reset_index(inplace=True)\n",
    "    apu4.columns = ['Return station id', 'count']\n",
    "    arvot_r.append(apu4)\n",
    "\n",
    "for i in range(len(arvot_r)):\n",
    "    arvot_r[i].to_csv('return_' + str(i) + '.csv')"
   ]
  },
  {
   "cell_type": "code",
   "execution_count": 3,
   "metadata": {},
   "outputs": [],
   "source": [
    "### Convert values to int just in case, NaN values to -99 so we can ignore them\n",
    "\n",
    "for lista in listat:\n",
    "    lista['Departure station id'] = lista['Departure station id'].fillna(-99.0).astype(int)\n",
    "    lista['Return station id'] = lista['Return station id'].fillna(-99.0).astype(int)"
   ]
  },
  {
   "cell_type": "code",
   "execution_count": 4,
   "metadata": {},
   "outputs": [],
   "source": [
    "### Create new origination destination column\n",
    "def apuf(x):\n",
    "    x = int(x)\n",
    "    x = str(x)\n",
    "    if len(x) == 1:\n",
    "        return \"00\" + x\n",
    "    elif len(x) == 2:\n",
    "        return \"0\" + x\n",
    "    else:\n",
    "        return x\n",
    "    \n",
    "def apuf2(x, y):\n",
    "    if int(x) < int(y):\n",
    "        return str(x) + \"_\" + str(y)\n",
    "    else:\n",
    "        return str(y) + \"_\" + str(x)\n",
    "\n",
    "listat2 = []\n",
    "for lista in listat:\n",
    "    new = lista.rename(columns={'Departure station id': 'd_id', 'Return station id': 'r_id'})\n",
    "    listat2.append(new)\n",
    "    \n",
    "for lista in listat2:\n",
    "    lista[\"d_id\"] = lista.apply(lambda row: apuf(row.d_id), axis=1)\n",
    "    lista[\"r_id\"] = lista.apply(lambda row: apuf(row.r_id), axis=1)\n",
    "\n",
    "for lista in listat2:\n",
    "    lista[\"OD\"] = lista.apply(lambda row: apuf2(row.d_id, row.r_id), axis=1)\n"
   ]
  },
  {
   "cell_type": "code",
   "execution_count": 5,
   "metadata": {},
   "outputs": [],
   "source": [
    "### Aggregate origination destination values and export\n",
    "\n",
    "arvot_od = []\n",
    "for i in listat2:\n",
    "    apu5 = i['OD'].value_counts()\n",
    "    apu6 = pd.DataFrame(apu5)\n",
    "    apu6.reset_index(inplace=True)\n",
    "    apu6.columns = ['OD', 'count']\n",
    "    arvot_od.append(apu6)\n",
    "\n",
    "for i in range(len(arvot_od)):\n",
    "    arvot_od[i].to_csv('od_' + str(i) + '.csv')\n",
    "    "
   ]
  },
  {
   "cell_type": "code",
   "execution_count": 6,
   "metadata": {},
   "outputs": [
    {
     "name": "stdout",
     "output_type": "stream",
     "text": [
      "130.45280265808105\n"
     ]
    }
   ],
   "source": [
    "### Export\n",
    "\n",
    "for i in range(len(listat2)):\n",
    "    listat2[i].to_csv('new_list_' + str(i) + '.csv')\n",
    "    \n",
    "end = time()\n",
    "\n",
    "print(end-start)"
   ]
  }
 ],
 "metadata": {
  "kernelspec": {
   "display_name": "Python 3",
   "language": "python",
   "name": "python3"
  },
  "language_info": {
   "codemirror_mode": {
    "name": "ipython",
    "version": 3
   },
   "file_extension": ".py",
   "mimetype": "text/x-python",
   "name": "python",
   "nbconvert_exporter": "python",
   "pygments_lexer": "ipython3",
   "version": "3.8.5"
  }
 },
 "nbformat": 4,
 "nbformat_minor": 4
}

{
 "cells": [
  {
   "cell_type": "code",
   "execution_count": 10,
   "metadata": {},
   "outputs": [],
   "source": [
    "### Code to turn include all 3 digits of bss id\n",
    "\n",
    "import pandas as pd\n",
    "import glob\n",
    "listat = []\n",
    "path = r'C:\\Users\\perol\\Documents\\acc'\n",
    "all_files = glob.glob(path + \"/ret*.csv\")\n",
    "for file in all_files:\n",
    "    df = pd.read_csv(file)\n",
    "    listat.append(df)\n",
    "    \n",
    "def apu(x):\n",
    "    x = int(x)\n",
    "    x = str(x)\n",
    "    if len(x) == 1:\n",
    "        return \"00\" + x\n",
    "    elif len(x) == 2:\n",
    "        return \"0\" + x\n",
    "    else:\n",
    "        return x\n",
    "\n",
    "listat2 = []\n",
    "\n",
    "listat2 = []\n",
    "for lista in listat:\n",
    "    new = lista.rename(columns={'Return station id': 'r_id'})\n",
    "    listat2.append(new)\n",
    "    \n",
    "for lista in listat2:\n",
    "    lista[\"ret_id\"] = lista.apply(lambda row: apu(row.r_id), axis=1)\n",
    "    \n",
    "for i in range(len(listat2)):\n",
    "    listat2[i].to_csv('ret' + str(i) + '.csv')"
   ]
  }
 ],
 "metadata": {
  "kernelspec": {
   "display_name": "Python 3",
   "language": "python",
   "name": "python3"
  },
  "language_info": {
   "codemirror_mode": {
    "name": "ipython",
    "version": 3
   },
   "file_extension": ".py",
   "mimetype": "text/x-python",
   "name": "python",
   "nbconvert_exporter": "python",
   "pygments_lexer": "ipython3",
   "version": "3.8.5"
  }
 },
 "nbformat": 4,
 "nbformat_minor": 4
}

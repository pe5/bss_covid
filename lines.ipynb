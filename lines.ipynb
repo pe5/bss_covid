{
 "cells": [
  {
   "cell_type": "code",
   "execution_count": 2,
   "metadata": {},
   "outputs": [],
   "source": [
    "import geopandas as gpd\n",
    "import matplotlib.pyplot as plt\n",
    "import pandas as pd\n",
    "from shapely.geometry import LineString, Point\n",
    "from pyproj import CRS"
   ]
  },
  {
   "cell_type": "code",
   "execution_count": 3,
   "metadata": {},
   "outputs": [],
   "source": [
    "pisteet = gpd.read_file('joins_ret.shp')"
   ]
  },
  {
   "cell_type": "code",
   "execution_count": 20,
   "metadata": {},
   "outputs": [],
   "source": [
    "viivat = gpd.GeoDataFrame(geometry='geometry', crs=pisteet.crs, columns=['geometry', 'ID'])\n",
    "\n",
    "apu = 0\n",
    "for i, piste in pisteet.iterrows():\n",
    "    for j, toinen in pisteet.iterrows():\n",
    "        if i >= j:\n",
    "            continue\n",
    "        viiva = LineString([piste['geometry'],toinen['geometry']])\n",
    "        viivat.loc[apu, 'geometry'] = viiva\n",
    "        viivat.loc[apu, 'ID'] = piste['ID'] + '_' + toinen['ID']\n",
    "        apu += 1"
   ]
  },
  {
   "cell_type": "code",
   "execution_count": 23,
   "metadata": {},
   "outputs": [],
   "source": [
    "viivat.to_file('viivat.shp', driver='ESRI Shapefile')"
   ]
  }
 ],
 "metadata": {
  "kernelspec": {
   "display_name": "Python 3",
   "language": "python",
   "name": "python3"
  },
  "language_info": {
   "codemirror_mode": {
    "name": "ipython",
    "version": 3
   },
   "file_extension": ".py",
   "mimetype": "text/x-python",
   "name": "python",
   "nbconvert_exporter": "python",
   "pygments_lexer": "ipython3",
   "version": "3.8.6"
  }
 },
 "nbformat": 4,
 "nbformat_minor": 4
}
